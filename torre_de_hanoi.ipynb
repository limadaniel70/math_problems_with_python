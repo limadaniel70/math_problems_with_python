{
  "nbformat": 4,
  "nbformat_minor": 0,
  "metadata": {
    "colab": {
      "provenance": [],
      "authorship_tag": "ABX9TyO4h7cRxSAKiaOFyzUN2d/M",
      "include_colab_link": true
    },
    "kernelspec": {
      "name": "python3",
      "display_name": "Python 3"
    },
    "language_info": {
      "name": "python"
    }
  },
  "cells": [
    {
      "cell_type": "markdown",
      "metadata": {
        "id": "view-in-github",
        "colab_type": "text"
      },
      "source": [
        "<a href=\"https://colab.research.google.com/github/limadaniel70/math_problems_with_python/blob/master/torre_de_hanoi.ipynb\" target=\"_parent\"><img src=\"https://colab.research.google.com/assets/colab-badge.svg\" alt=\"Open In Colab\"/></a>"
      ]
    },
    {
      "cell_type": "markdown",
      "source": [
        "# A TORRE DE HANÓI\n",
        "\n",
        "![Torre de Hanoi](https://upload.wikimedia.org/wikipedia/commons/0/07/Tower_of_Hanoi.jpeg)\n",
        "<br/>\n",
        "Imagem disponível em: <https://commons.wikimedia.org/wiki/File:Tower_of_Hanoi.jpeg#file>."
      ],
      "metadata": {
        "id": "A9dfoff4fqew"
      }
    },
    {
      "cell_type": "markdown",
      "source": [
        "# INTRODUÇÃO\n",
        "\n",
        "A **Torre de Hanói** é um quebra-cabeça matemático que consiste em uma base com três hastes e um número `n` de discos, como ilustrado na imagem anterior. O jogo foi desenvolvido por *Édouard Lucas* (1842-1891) em 1883 e seu nome foi inspirado na cidade de *Hanói*, no *Vietnã*.\n",
        "\n",
        "Existem diversas lendas sobre o jogo, mas a mais popular é esta:\n",
        "\n",
        "> “No começo dos tempos, Deus criou a Torre de Brahma, que contém três hastes de diamante, e colocou na primeira haste 64 discos de ouro maciço. Deus chamou seus sacerdotes e ordenou-lhes que transferissem todos os discos para a terceira haste, seguindo as regras acima descritas. Os sacerdotes, então, obedeceram e começaram o trabalho de remoção dos discos, dia e noite.\n",
        "Segundo Deus, quando eles terminarem o trabalho, a Torre de Brahma irá ruir e o mundo acabará…”\n",
        "\n",
        "Mais adiante serão discutidas as formas de se calcular a quantidade de movimentos necessários para vencer o jogo, mas, apenas como demonstração, se os sarcedotes fizerem um movimento por segundo, eles levariam no mínimo 584.942.417.355 anos (584 bilhões de anos) para conseguir vencer o jogo, isso é mais tempo que a idade do universo, estimada em 14 bilhões de anos.\n",
        "\n",
        "# COMO O JOGO FUNCIONA\n",
        "\n",
        "O jogo consiste em mover todos os discos de um pilar para um outro qualquer seguindo estas regras:\n",
        "\n",
        "\n",
        "1.   Apenas um disco pode ser movido por vez.\n",
        "2.   Um disco com diâmetro maior não pode ficar em cima de um com diâmetro menor.\n",
        "\n"
      ],
      "metadata": {
        "id": "SSydAHtPiD3H"
      }
    },
    {
      "cell_type": "markdown",
      "source": [
        "# SOLUCINANDO A TORRE DE HANÓI\n",
        "\n",
        "Esta animação ilustra como o quebra-cabeça deve ser jogado:\n",
        "\n",
        "![Animação da Torre de Hanói com quatro discos](https://upload.wikimedia.org/wikipedia/commons/6/60/Tower_of_Hanoi_4.gif)\n",
        "\n",
        "Por André Karwath aka Aka - Obra do próprio, CC BY-SA 2.5, https://commons.wikimedia.org/w/index.php?curid=85401\n",
        "\n",
        "O problema consiste apenas em conseguir mover os discos para outra haste seguindo as regras citadas anteriormente, no entanto, para o nosso problema, o objetivo é encontrar e conseguir vencer o quebra-cabeça utilizando uma quantidade mínima de movimentos.\n",
        "\n",
        "Assim, para a nossa primeira solução, analisaremos casos com um número de discos pequeno.\n",
        "\n",
        "## NÚMERO DE DISCOS IGUAL A 1\n",
        "\n",
        "Para este caso, basta simplesmente mover o disco para outra aste; assim,\n",
        "o número de movimentos para `n = 1` é `1`.\n",
        "\n",
        "## NÚMERO DE DISCOS IGUAL A 2\n",
        "\n",
        "Convencionando que as hastes estão numeradas de 1 a 3 e que os discos coemçam na haste 1, quando `n = 2` movemos o menor disco (primeiro disco) para a haste 2 (primeiro movimento), após isso, movemos o segundo para a haste 3 (segundo movimento) e, por fim, movemos primeiro disco para a haste 3 (terceiro movimento). Assim, para `n = 2` o número de movimentos é igual a `3`.\n",
        "\n",
        "## NÚMERO DE DISCOS IGUAL A 3\n",
        "\n",
        "Como sabemos, para mover 2 discos para outra haste precisamos de no mínimo 3 movimentos e agora temos 3 discos, bastar mover os dois discos de cima para outra haste (três movimentos), usaremos a haste 3 como exemplo, agora movemos o terceiro disco (último disco) para a haste 2 (quarto movimento), por fim, movemos os outros dois discos para a segunda haste, que sabemos que serão mais 3 movimentos. Logo, o número de movimentos para `n = 3` é `7`.\n",
        "\n",
        "## FORMA RECURSIVA\n",
        "\n",
        "Se você perceber, a partir do terceiro caso, com um número `n` de discos nós usamos o número `m` de movimentos do caso `n - 1` para mover todos os discos uma vez, movemos o último disco para uma haste diferente e fazemos mais `m` movimentos para mover o número `n - 1` de discos para a haste onde está o maior disco. Isso pode ser descrito pela seguinte equação:\n",
        "$$m_{n} = 2m_{n - 1} + 1$$\n",
        "Ou em forma de função:\n",
        "$$\\begin{equation} \\begin{cases}\n",
        "f(1) = 1 \\\\\n",
        "f(n) = 2 \\cdot f(n - 1) + 1\n",
        "\\end{cases}\\end{equation}$$\n",
        "\n",
        "## FORMA EXPONENCIAL\n",
        "\n",
        "Dá mesma forma que o método anterior, se agruparmos os movimentos `m` para cada caso teremos: $$(1, 3, 7, 15, 31, 63, ..., 2^{n} - 1)$$\n",
        "\n",
        "Logo, percebe-se que o termo geral dessa sequência é dado por: $$m_{n} = 2^{n} - 1$$\n",
        "\n",
        "Além dessa forma, há como visualizar este problema como uma progressão geométrica. Para mover o primeiro disco da torre, é preciso fazer 1 movimento. Para mover o segundo disco da torre original, sendo que o primeiro já foi movido e será construída uma torre com os dois menores discos, serão necessários dois movimentos. Para mover o terceiro disco, formando uma nova torre com os três menores discos, tendo a torre formada, são necessários 4 movimentos. Perceba a sequência formada por esses números: $$(1, 2, 4, 8, 16, ..., 2^{n})$$\n",
        "\n",
        "Esta sequência possuí `1` como primeiro termo e `2` como a razão `q`. Assim, para sabermos quantos movimentos serão feitos, basta realizar a soma dos termos da P.G.: $$\\frac{a_{1} (q^{n} - 1)} {q - 1} ⇒ \\frac{1 \\cdot (2^{n} - 1)} {2 -1 } ⇒ 2^{n} - 1$$\n",
        "\n",
        "Logo, percebe-se que a fómrula do método anterior é derivada da soma dos termos de uma P.G."
      ],
      "metadata": {
        "id": "He4HQGaqlaPE"
      }
    },
    {
      "cell_type": "markdown",
      "source": [
        "# IMPLEMENTAÇÃO EM PYTHON\n",
        "\n"
      ],
      "metadata": {
        "id": "iaTo698Ez3kY"
      }
    },
    {
      "cell_type": "code",
      "source": [
        "NUM_DE_DISCOS: int = int(input(\"Digite o número de discos: \"))"
      ],
      "metadata": {
        "colab": {
          "base_uri": "https://localhost:8080/"
        },
        "id": "P6DS_ABy3ks-",
        "outputId": "91a9bdf6-b99a-4606-d1dc-146a4e1f8414"
      },
      "execution_count": null,
      "outputs": [
        {
          "name": "stdout",
          "output_type": "stream",
          "text": [
            "Digite o número de discos: 3\n"
          ]
        }
      ]
    },
    {
      "cell_type": "markdown",
      "source": [
        "\n",
        "## ALGORITMO PARA CALCULAR O NÚMERO DE MOVIMENTOS"
      ],
      "metadata": {
        "id": "73SbGbB93Stl"
      }
    },
    {
      "cell_type": "code",
      "source": [
        "def calc_movimentos(num_de_discos: int) -> int:\n",
        "  return 2**num_de_discos - 1\n",
        "\n",
        "def calc_movimentos_recursivo(num_de_discos: int) -> int:\n",
        "  if num_de_discos == 1:\n",
        "    return 1\n",
        "  else:\n",
        "    return 2 * calc_movimentos_recursivo(num_de_discos - 1) + 1\n",
        "\n",
        "print(f\"O número de movimentos para {NUM_DE_DISCOS} discos é: {calc_movimentos(NUM_DE_DISCOS)}\")"
      ],
      "metadata": {
        "colab": {
          "base_uri": "https://localhost:8080/"
        },
        "id": "AjgbjHLU1UJq",
        "outputId": "b6fa92ce-124c-450e-a743-bb9be781f285"
      },
      "execution_count": null,
      "outputs": [
        {
          "output_type": "stream",
          "name": "stdout",
          "text": [
            "O número de movimentos para 3 discos é: 7\n"
          ]
        }
      ]
    },
    {
      "cell_type": "markdown",
      "source": [
        "## ALGORITMO PARA JOGAR O JOGO DE HANÓI\n"
      ],
      "metadata": {
        "id": "0Tf5M5a221Cm"
      }
    },
    {
      "cell_type": "code",
      "source": [
        "def hanoi(disco: int, origem: str, destino: str, auxiliar: str):\n",
        "    if disco == 1:\n",
        "        print(f\"Disco {disco} movido da haste {origem} para a haste {destino}\")\n",
        "        return\n",
        "\n",
        "    hanoi(disco - 1, origem, auxiliar, destino)\n",
        "    print(f\"Disco {disco} movido da haste {origem} para a haste {destino}\")\n",
        "    hanoi(disco - 1, auxiliar, destino, origem)\n",
        "\n",
        "hanoi(NUM_DE_DISCOS, \"A\", \"B\", \"C\")"
      ],
      "metadata": {
        "colab": {
          "base_uri": "https://localhost:8080/"
        },
        "id": "g9AnnFs825R2",
        "outputId": "66c60eb8-55be-4bab-f805-1eab090492af"
      },
      "execution_count": null,
      "outputs": [
        {
          "output_type": "stream",
          "name": "stdout",
          "text": [
            "Disco 1 movido da haste A para a haste B\n",
            "Disco 2 movido da haste A para a haste C\n",
            "Disco 1 movido da haste B para a haste C\n",
            "Disco 3 movido da haste A para a haste B\n",
            "Disco 1 movido da haste C para a haste A\n",
            "Disco 2 movido da haste C para a haste B\n",
            "Disco 1 movido da haste A para a haste B\n"
          ]
        }
      ]
    },
    {
      "cell_type": "markdown",
      "source": [
        "# REFERÊNCIAS\n",
        "\n",
        "TORRE DE HANÓI. In: WIKIPÉDIA, a enciclopédia livre. Flórida: Wikimedia Foundation, 2023. Disponível em: <https://pt.wikipedia.org/wiki/Torre_de_Han%C3%B3i>. Acesso em: 07 out. 2024.\n",
        "\n",
        "TORRE DE HANÓI. CLUBES DE MATEMÁTICA DA OBMEP. Disponível em: <https://clubes.obmep.org.br/blog/torre-de-hanoi/> Acesso em: 07 out. 2024."
      ],
      "metadata": {
        "id": "vuUgGOloh4QX"
      }
    }
  ]
}
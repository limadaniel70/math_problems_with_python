{
  "nbformat": 4,
  "nbformat_minor": 0,
  "metadata": {
    "colab": {
      "provenance": [],
      "authorship_tag": "ABX9TyN2+KIbQEO8kRw0Q+M9jLUk",
      "include_colab_link": true
    },
    "kernelspec": {
      "name": "python3",
      "display_name": "Python 3"
    },
    "language_info": {
      "name": "python"
    }
  },
  "cells": [
    {
      "cell_type": "markdown",
      "metadata": {
        "id": "view-in-github",
        "colab_type": "text"
      },
      "source": [
        "<a href=\"https://colab.research.google.com/github/limadaniel70/math_problems_with_python/blob/master/problema_de_josefo.ipynb\" target=\"_parent\"><img src=\"https://colab.research.google.com/assets/colab-badge.svg\" alt=\"Open In Colab\"/></a>"
      ]
    },
    {
      "cell_type": "markdown",
      "source": [
        "# INTRODUÇÃO\n",
        "\n",
        "O problema de Josefo tem suas raízes na Primeira Guerra Judaico-Romana. Flávio Josefo, um historiador judeu, e 40 de seus soldados ficaram encurralados em uma caverna, cercados pelos romanos. Diante da iminente captura, o grupo decidiu que preferia a morte ao invés de ser capturado, organizando-se em um círculo para cometer suicídio em sequência. A cada rodada, um soldado mataria o companheiro à sua esquerda, até que restasse apenas um. O último soldado, em respeito aos outros, deveria tirar a própria vida. Contudo, Josefo, ao perceber a situação, utilizou sua inteligência para calcular a posição que garantiria sua sobrevivência, tornando-se o último a permanecer vivo. Ao invés de se suicidar, ele se rendeu aos romanos, escapando com vida.\n",
        "\n",
        "> ![Caricatura de Flávio Josefo](https://upload.wikimedia.org/wikipedia/commons/8/83/Josephus.jpg) </br>\n",
        "> Imagem disponível em: https://commons.wikimedia.org/wiki/File:Josephus.jpg#/media/Ficheiro:Josephus.jpg </br>\n",
        "> </br> Flávio Josefo foi um historiador e líder militar romano-judeu que viveu no século I d.C. Ele é conhecido por sua obra \"A Guerra Judaica\", que narra a revolta judaica contra Roma em 66-70 d.C. Josefo nasceu em Jerusalém em uma família de sacerdotes e recebeu uma educação judaica tradicional. Ele se tornou um líder militar durante a revolta judaica, mas acabou sendo capturado pelos romanos. Após a guerra, Josefo se tornou um cidadão romano e escreveu vários livros sobre história e cultura judaica."
      ],
      "metadata": {
        "id": "lbHvUuYdZ6-2"
      }
    },
    {
      "cell_type": "markdown",
      "source": [
        "# IMPLEMENTAÇÃO EM PYTHON\n"
      ],
      "metadata": {
        "id": "-cswwUYAo59r"
      }
    },
    {
      "cell_type": "code",
      "source": [
        "N_DE_PESSOAS = int(input(\"Insira o número de pessoas: \"))\n",
        "\n",
        "# As pessoas serão representadas por uma lista de números\n",
        "# que vão de 1 até o número definido em N_DE_PESSOAS.\n",
        "# Exemplo: caso o número de pessoas seja 3,\n",
        "# a lista pessoas será igual a: [1, 2, 3],\n",
        "# onde cada número representa uma pessoa.\n",
        "\n",
        "PESSOAS = list(range(1, N_DE_PESSOAS + 1))"
      ],
      "metadata": {
        "colab": {
          "base_uri": "https://localhost:8080/"
        },
        "id": "ihFim50Nz1G-",
        "outputId": "a8712d37-a4da-4ac4-96f4-81bb5b25c606"
      },
      "execution_count": null,
      "outputs": [
        {
          "name": "stdout",
          "output_type": "stream",
          "text": [
            "Insira o número de pessoas: 7\n"
          ]
        }
      ]
    },
    {
      "cell_type": "code",
      "source": [
        "def simular_iteracao(pessoas: list[int]):\n",
        "    \"\"\"\n",
        "    Função que simula uma iteração do problema de Josefo.\n",
        "    \"\"\"\n",
        "    for pessoa in range(1, len(pessoas)):\n",
        "        if len(pessoas) <= 1 or pessoa >= len(pessoas):\n",
        "            return\n",
        "        pessoas.pop(pessoa)"
      ],
      "metadata": {
        "id": "pe4Tw-ZZ0vpP"
      },
      "execution_count": null,
      "outputs": []
    },
    {
      "cell_type": "code",
      "source": [
        "primeira_iteração = PESSOAS.copy()\n",
        "simular_iteracao(primeira_iteração)\n",
        "print(f\"Primeira iteração: {primeira_iteração}\")\n",
        "\n",
        "segunda_iteração = primeira_iteração.copy()\n",
        "simular_iteracao(segunda_iteração)\n",
        "print(f\"Segunda iteração: {segunda_iteração}\")\n",
        "\n",
        "terceira_iteração = segunda_iteração.copy()\n",
        "simular_iteracao(terceira_iteração)\n",
        "print(f\"Terceira iteração: {terceira_iteração}\")"
      ],
      "metadata": {
        "colab": {
          "base_uri": "https://localhost:8080/"
        },
        "id": "0L9WutAs13-B",
        "outputId": "cfece672-92ba-4ff5-c50d-d65760538242"
      },
      "execution_count": null,
      "outputs": [
        {
          "output_type": "stream",
          "name": "stdout",
          "text": [
            "Primeira iteração: [1, 3, 5, 7]\n",
            "Segunda iteração: [1, 5]\n",
            "Terceira iteração: [1]\n"
          ]
        }
      ]
    },
    {
      "cell_type": "markdown",
      "source": [
        "Perceba que, como a cada iteração o número de pessoas cai pela métado, o número de iterações é igual a $\\log_{2} n$, sendo n o número de pessoas."
      ],
      "metadata": {
        "id": "Arm_qzOc96Je"
      }
    },
    {
      "cell_type": "code",
      "source": [
        "from math import log2\n",
        "\n",
        "calc_iter = lambda n : round(log2(n))\n",
        "\n",
        "n_de_iter = calc_iter(N_DE_PESSOAS)\n",
        "\n",
        "print(f\"Número de iterações: {n_de_iter}\")"
      ],
      "metadata": {
        "colab": {
          "base_uri": "https://localhost:8080/"
        },
        "id": "edXBUPXN-JnJ",
        "outputId": "156a34c2-c9b7-497a-9ea9-8a09ece8a988"
      },
      "execution_count": null,
      "outputs": [
        {
          "output_type": "stream",
          "name": "stdout",
          "text": [
            "Número de iterações: 3\n"
          ]
        }
      ]
    },
    {
      "cell_type": "markdown",
      "source": [
        "Agora, vamos testar com um número de pessoas um pouco maior. Para isso, vamos criar uma função faça o número de iterações necessários automaticamente, já que a função anterior faz uma única iteração."
      ],
      "metadata": {
        "id": "xba3z3seGsVa"
      }
    },
    {
      "cell_type": "code",
      "source": [
        "# Quantidade de pessoas\n",
        "PESSOAS = list(range(1, 33))\n",
        "\n",
        "def simular(pessoas: list[int]):\n",
        "    iteracoes = calc_iter(len(pessoas))\n",
        "    # Não utiliza a lista original.\n",
        "    result = pessoas.copy()\n",
        "    for i in range(iteracoes):\n",
        "        simular_iteracao(result)\n",
        "        yield (result, i)\n",
        "\n",
        "print(f\"Pessoas: {PESSOAS}\")\n",
        "for experimento, i in simular(PESSOAS):\n",
        "    print(f\"Iteração {i + 1}: {experimento}\")"
      ],
      "metadata": {
        "colab": {
          "base_uri": "https://localhost:8080/"
        },
        "id": "wSYDZBSIGtJq",
        "outputId": "6d937cb4-24b3-4c5b-ad53-f63c7be6076f"
      },
      "execution_count": null,
      "outputs": [
        {
          "output_type": "stream",
          "name": "stdout",
          "text": [
            "Pessoas: [1, 2, 3, 4, 5, 6, 7, 8, 9, 10, 11, 12, 13, 14, 15, 16, 17, 18, 19, 20, 21, 22, 23, 24, 25, 26, 27, 28, 29, 30, 31, 32]\n",
            "Iteração 1: [1, 3, 5, 7, 9, 11, 13, 15, 17, 19, 21, 23, 25, 27, 29, 31]\n",
            "Iteração 2: [1, 5, 9, 13, 17, 21, 25, 29]\n",
            "Iteração 3: [1, 9, 17, 25]\n",
            "Iteração 4: [1, 17]\n",
            "Iteração 5: [1]\n"
          ]
        }
      ]
    },
    {
      "cell_type": "markdown",
      "source": [
        "# SOLUÇÃO\n",
        "\n",
        "Inicialmente, vamos começar analisando alguns casos:\n"
      ],
      "metadata": {
        "id": "uwpfCQSFaFDH"
      }
    },
    {
      "cell_type": "code",
      "source": [
        "# CASO 1\n",
        "\n",
        "# CASO 2\n",
        "\n",
        "# CASO 3\n",
        "\n",
        "# CASO 4\n",
        "\n",
        "# CASO 5\n",
        "\n",
        "# CASO 6\n",
        "\n",
        "# CASO 7"
      ],
      "metadata": {
        "id": "VUsv3FC2YPSG"
      },
      "execution_count": null,
      "outputs": []
    },
    {
      "cell_type": "markdown",
      "source": [
        "# REFERÊNCIAS\n",
        "\n",
        "**CIÊNCIA E NATURA**. Revista do Centro de Ciências Naturais e Exatas - UFSM. Santa Maria: Universidade Federal de Santa Maria, v. 37, ed. especial PROFMAT, p. 525-531, 2015. ISSN 0100-8307. Disponível em: https://periodicos.ufsm.br/cienciaenatura. Acesso em: 13 de out. de 2024\n",
        "\n",
        "**NUNES, Daniel**. O PROBLEMA de JOSEFO (e sua incrível história). **Tem Ciência**, 2023 Disponível em: https://www.youtube.com/watch?v=cm1J6a-UGnk. Acesso em 12 de out. de 2024.\n",
        "\n",
        "**COMPUTERPHILE**. The Josephus Problem. 2014. Disponível em: https://www.youtube.com/watch?v=uCsD3ZGzMgE. Acesso em: 13 out. 2024.\n",
        "\n",
        "**Poole, Gary William**. \"Flavius Josephus\". **Encyclopedia Britannica**, 2024. Disponível em: https://www.britannica.com/biography/Flavius-Josephus. Acesso em 13 de out. de 2024."
      ],
      "metadata": {
        "id": "9FOo42xCaLM3"
      }
    }
  ]
}